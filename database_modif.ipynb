{
 "cells": [
  {
   "cell_type": "code",
   "execution_count": 5,
   "id": "d1f13616",
   "metadata": {},
   "outputs": [],
   "source": [
    "import textstat\n",
    "import pandas as pd\n",
    "\n",
    "# Read in the dataset\n",
    "df = pd.read_csv('/Users/mertcakir/Desktop/tez python/texts/sa_fin2.csv')\n",
    "\n",
    "# Add a new column to the DataFrame to store the Flesch-Kincaid Grade Level scores\n",
    "df = df.assign(flesch_kincaid_grade=None)\n",
    "\n",
    "# Calculate the Flesch-Kincaid Grade Level for each row of the DataFrame\n",
    "df['flesch_kincaid_grade'] = df['text'].apply(textstat.flesch_kincaid_grade)\n",
    "\n",
    "# Save the modified DataFrame to a CSV file\n",
    "df.to_csv('/Users/mertcakir/Desktop/tez python/texts/sa_fin3.csv', index=False)"
   ]
  },
  {
   "cell_type": "code",
   "execution_count": 10,
   "id": "0d1765b4",
   "metadata": {},
   "outputs": [],
   "source": [
    "# Read in the dataset\n",
    "df = pd.read_csv('/Users/mertcakir/Desktop/tez python/texts/ind_fin3.csv')\n",
    "\n",
    "# Keep only the first 10 characters of each row in the first column\n",
    "df['versionCreated'] = df['versionCreated'].apply(lambda x: x[:10])\n",
    "\n",
    "# Save the modified DataFrame to a CSV file\n",
    "df.to_csv('/Users/mertcakir/Desktop/tez python/texts/ind_fin4.csv', index=False)"
   ]
  },
  {
   "cell_type": "code",
   "execution_count": 15,
   "id": "01bd8cc7",
   "metadata": {},
   "outputs": [],
   "source": [
    "# Read in the dataset\n",
    "df = pd.read_csv('/Users/mertcakir/Desktop/tez python/texts/sa_fin4.csv')\n",
    "\n",
    "# Transform the values in the third column using a mapping\n",
    "df['prediction'] = df['prediction'].map({'positive': 1, 'neutral': 0, 'negative': -1})\n",
    "\n",
    "# Save the modified DataFrame to a CSV file\n",
    "df.to_csv('/Users/mertcakir/Desktop/tez python/texts/sa_fin5.csv', index=False)"
   ]
  },
  {
   "cell_type": "code",
   "execution_count": 21,
   "id": "f82394eb",
   "metadata": {},
   "outputs": [],
   "source": [
    "# Read in the dataset\n",
    "df = pd.read_csv('/Users/mertcakir/Desktop/tez python/texts/ind_fin5.csv')\n",
    "\n",
    "# Drop the second column\n",
    "df = df.drop(columns=['text'])\n",
    "\n",
    "# Group the rows by the first column and average the values in the other columns\n",
    "df = df.groupby('versionCreated').mean().reset_index()\n",
    "\n",
    "# Round the averages to 2 decimal places\n",
    "df = df.round(2)\n",
    "\n",
    "# Save the modified DataFrame to a CSV file\n",
    "df.to_csv('/Users/mertcakir/Desktop/tez python/texts/ind_fin6.csv', index=False)"
   ]
  },
  {
   "cell_type": "code",
   "execution_count": 26,
   "id": "4cd424cc",
   "metadata": {},
   "outputs": [],
   "source": [
    "# Load the DataFrame\n",
    "df = pd.read_csv('/Users/mertcakir/Downloads/ind_fin6.csv')\n",
    "\n",
    "# Select the column you want to format\n",
    "column = df['trading_range']\n",
    "\n",
    "# Use the .apply() method and pass a lambda function to format the values\n",
    "df['trading_range'] = column.apply(lambda x: '{:,.3f}'.format(x))\n",
    "\n",
    "# Save the modified DataFrame to a new CSV file\n",
    "df.to_csv('/Users/mertcakir/Desktop/tez python/texts/ind_fin7.csv', index=False)"
   ]
  },
  {
   "cell_type": "code",
   "execution_count": null,
   "id": "71210f5e",
   "metadata": {},
   "outputs": [],
   "source": []
  }
 ],
 "metadata": {
  "kernelspec": {
   "display_name": "Python 3",
   "language": "python",
   "name": "python3"
  },
  "language_info": {
   "codemirror_mode": {
    "name": "ipython",
    "version": 3
   },
   "file_extension": ".py",
   "mimetype": "text/x-python",
   "name": "python",
   "nbconvert_exporter": "python",
   "pygments_lexer": "ipython3",
   "version": "3.7.3"
  }
 },
 "nbformat": 4,
 "nbformat_minor": 5
}
