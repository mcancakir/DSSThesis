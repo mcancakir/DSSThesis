{
 "cells": [
  {
   "cell_type": "code",
   "execution_count": 35,
   "id": "3467abe7",
   "metadata": {},
   "outputs": [],
   "source": [
    "import pandas as pd\n",
    "df = pd.read_csv('/Users/mertcakir/Desktop/tez python/texts/TURKEY_1YEAR.csv')"
   ]
  },
  {
   "cell_type": "code",
   "execution_count": 31,
   "id": "ddf416cb",
   "metadata": {},
   "outputs": [
    {
     "data": {
      "text/plain": [
       "Index(['Dt', 'text'], dtype='object')"
      ]
     },
     "execution_count": 31,
     "metadata": {},
     "output_type": "execute_result"
    }
   ],
   "source": [
    "df.columns"
   ]
  },
  {
   "cell_type": "code",
   "execution_count": 26,
   "id": "2c5d9e66",
   "metadata": {},
   "outputs": [
    {
     "ename": "TypeError",
     "evalue": "'DataFrame' object is not callable",
     "output_type": "error",
     "traceback": [
      "\u001b[0;31m---------------------------------------------------------------------------\u001b[0m",
      "\u001b[0;31mTypeError\u001b[0m                                 Traceback (most recent call last)",
      "\u001b[0;32m<ipython-input-26-3940f04d5f5e>\u001b[0m in \u001b[0;36m<module>\u001b[0;34m\u001b[0m\n\u001b[0;32m----> 1\u001b[0;31m \u001b[0mdf\u001b[0m\u001b[0;34m(\u001b[0m\u001b[0;34m[\u001b[0m\u001b[0;34m'Dt'\u001b[0m\u001b[0;34m]\u001b[0m\u001b[0;34m)\u001b[0m\u001b[0;34m[\u001b[0m\u001b[0;34m'text'\u001b[0m\u001b[0;34m]\u001b[0m\u001b[0;34m.\u001b[0m\u001b[0mapply\u001b[0m\u001b[0;34m(\u001b[0m\u001b[0;32mlambda\u001b[0m \u001b[0mx\u001b[0m\u001b[0;34m:\u001b[0m \u001b[0;34m','\u001b[0m\u001b[0;34m.\u001b[0m\u001b[0mjoin\u001b[0m\u001b[0;34m(\u001b[0m\u001b[0mx\u001b[0m\u001b[0;34m)\u001b[0m\u001b[0;34m)\u001b[0m\u001b[0;34m.\u001b[0m\u001b[0mreset_index\u001b[0m\u001b[0;34m(\u001b[0m\u001b[0;34m)\u001b[0m\u001b[0;34m\u001b[0m\u001b[0;34m\u001b[0m\u001b[0m\n\u001b[0m",
      "\u001b[0;31mTypeError\u001b[0m: 'DataFrame' object is not callable"
     ]
    }
   ],
   "source": [
    "df(['Dt'])['text'].apply(lambda x: ','.join(x)).reset_index()"
   ]
  },
  {
   "cell_type": "code",
   "execution_count": 46,
   "id": "9e01cad6",
   "metadata": {},
   "outputs": [],
   "source": [
    "output_series = df.groupby(['Dt'])['text'].apply(list)"
   ]
  },
  {
   "cell_type": "code",
   "execution_count": 47,
   "id": "7b596bbb",
   "metadata": {},
   "outputs": [
    {
     "data": {
      "text/plain": [
       "Dt\n",
       "2021-07-01    [UPDATE 2-U.S. adds Turkey to list of countrie...\n",
       "2021-07-02    [U.N.-backed Libya talks fail to reach consens...\n",
       "2021-07-05    [UPDATE 4-Surprise jump to 17.5% lifts Turkish...\n",
       "2021-07-06    [BUZZ-Turkish lira on cusp of a big break, EME...\n",
       "2021-07-07    [UPDATE 5-Lithuania says Belarus is flying in ...\n",
       "2021-07-08    [EMERGING MARKETS-FX hits 2-month low, stocks ...\n",
       "2021-07-09    [UPDATE 3-U.S. strikes deal with Russia to con...\n",
       "2021-07-12    [U.S. talks with Turkey on Afghanistan securit...\n",
       "2021-07-13    [UPDATE 2-Biden nominates¬†ex-Senator Flake as...\n",
       "2021-07-14    [UPDATE 2-Turkey central bank keeps rates on h...\n",
       "2021-07-15    [BUZZ-Big break signals deeper USD/TRY drop, E...\n",
       "2021-07-16    [Turkey cenbank could do 'one off' rate cut in...\n",
       "2021-07-19    [BUZZ-Replay-AUD lockout, SNB action, stand ou...\n",
       "2021-07-20    [UK concerned by Erdogan's announcement on par...\n",
       "2021-07-21    [Biden committed to maintaining Turkey sanctio...\n",
       "2021-07-22    [Merkel praises Turkey over refugees but does ...\n",
       "2021-07-23    [Biden assures Afghan President Ghani of conti...\n",
       "2021-07-24    [UPDATE 1-Biden assures Afghan president of co...\n",
       "2021-07-26    [UPDATE 7-Tunisian democracy in turmoil after ...\n",
       "2021-07-27    [Tunisia rassures Turkey, EU, UN after its pre...\n",
       "2021-07-28    [U.S. imposes fresh Syria-related sanctions -T...\n",
       "2021-07-29    [Emerging market investors worry about economi...\n",
       "2021-07-30    [CORRECTED-EMERGING MARKETS-Stocks eye worst m...\n",
       "2021-07-31    [Out of control and rising: why bitcoin has Ni...\n",
       "2021-08-02    [EMERGING MARKETS-Stocks and currencies rise, ...\n",
       "2021-08-03    [UPDATE 2-Forest fire closes in on Turkish pow...\n",
       "2021-08-04    [headlines Top headlines in major S. Korean ne...\n",
       "2021-08-05    [UPDATE 5-Wildfires roar back to life near Ath...\n",
       "2021-08-06    [UPDATE 5-No end to Greek inferno as wildfires...\n",
       "2021-08-07    [UPDATE 5-Greece battles wildfires for fifth d...\n",
       "                                    ...                        \n",
       "2022-05-29    [Syrian rebels says ready to back Turkish-oper...\n",
       "2022-05-30    [UPDATE 3-Putin ready to facilitate unfettered...\n",
       "2022-05-31    [UPDATE 1-Turks clash with police on anniversa...\n",
       "2022-06-01    [Cryptocurrency bill: All top countries where ...\n",
       "2022-06-02    [Turkish cenbank's net FX reserve rise to $12....\n",
       "2022-06-03    [Erdogan tells Stoltenberg Turkey's security c...\n",
       "2022-06-05    [Erdogan says May figures show inflation is on...\n",
       "2022-06-06    [UPDATE 1-Ukraine not ready to export grain vi...\n",
       "2022-06-07    [UPDATE 1-Turkish lira weakens further after E...\n",
       "2022-06-08    [Airbus deliveries fell 6% in May amid supply ...\n",
       "2022-06-09    [Turkish cenbank to raise lira assets weight i...\n",
       "2022-06-10    [Turkey swaps surge to record high, bonds tumb...\n",
       "2022-06-11    [Turkey sees 3rd fuel hike in a week amid curr...\n",
       "2022-06-13    [Turkey current account in April sees 2.74-bln...\n",
       "2022-06-14    [The central bank's balance sheet will shrink ...\n",
       "2022-06-15    [UPDATE 3-Turkey says Ukraine grain ships coul...\n",
       "2022-06-16    [Refinitiv Newscasts - UK Day Ahead: Tesco mar...\n",
       "2022-06-17    [UPDATE 5-EU recommends Ukraine and Moldova as...\n",
       "2022-06-19    [CORRECTED-COLUMN-As Ukraine distracts, Russia...\n",
       "2022-06-20    [UPDATE 1-Turkey says summit is not deadline f...\n",
       "2022-06-21    [REFILE-UPDATE 2-Turkish team to discuss Black...\n",
       "2022-06-22    [UPDATE 2-G7, NATO leaders to ratchet up press...\n",
       "2022-06-23    [U.S. welcomes Turkey's help on Ukraine grain ...\n",
       "2022-06-24    [UPDATE 1-Turkey halts lending to FX-rich firm...\n",
       "2022-06-25    [Russia 'turning wave of food crises into tsun...\n",
       "2022-06-26    [U.S. confident Nato's strategy document will ...\n",
       "2022-06-27    [Turkey's Baykar to donate three UAVs to Ukrai...\n",
       "2022-06-28    [WRAPUP 4-Turkey lifts veto on Finland, Sweden...\n",
       "2022-06-29    [WRAPUP 2-U.S. to boost military presence in E...\n",
       "2022-06-30    [UPDATE 2-Biden supports F-16 sale to Turkey, ...\n",
       "Name: text, Length: 323, dtype: object"
      ]
     },
     "execution_count": 47,
     "metadata": {},
     "output_type": "execute_result"
    }
   ],
   "source": [
    "output_series"
   ]
  },
  {
   "cell_type": "code",
   "execution_count": 39,
   "id": "bb299ae8",
   "metadata": {},
   "outputs": [],
   "source": [
    "output_series.to_csv('out.csv')"
   ]
  },
  {
   "cell_type": "code",
   "execution_count": 48,
   "id": "79c9bc73",
   "metadata": {},
   "outputs": [
    {
     "data": {
      "text/plain": [
       "5.0"
      ]
     },
     "execution_count": 48,
     "metadata": {},
     "output_type": "execute_result"
    }
   ],
   "source": [
    "c = lambda a, g, b : a * g / b\n",
    "c(5,5,5)"
   ]
  },
  {
   "cell_type": "code",
   "execution_count": null,
   "id": "5272a2d6",
   "metadata": {},
   "outputs": [],
   "source": []
  }
 ],
 "metadata": {
  "kernelspec": {
   "display_name": "Python 3",
   "language": "python",
   "name": "python3"
  },
  "language_info": {
   "codemirror_mode": {
    "name": "ipython",
    "version": 3
   },
   "file_extension": ".py",
   "mimetype": "text/x-python",
   "name": "python",
   "nbconvert_exporter": "python",
   "pygments_lexer": "ipython3",
   "version": "3.7.3"
  }
 },
 "nbformat": 4,
 "nbformat_minor": 5
}
