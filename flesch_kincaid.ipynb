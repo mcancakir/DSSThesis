{
 "cells": [
  {
   "cell_type": "code",
   "execution_count": 2,
   "id": "cee62c1e",
   "metadata": {},
   "outputs": [
    {
     "name": "stdout",
     "output_type": "stream",
     "text": [
      "Collecting textstat\n",
      "  Downloading textstat-0.7.3-py3-none-any.whl (105 kB)\n",
      "\u001b[K     |████████████████████████████████| 105 kB 1.4 MB/s eta 0:00:01\n",
      "\u001b[?25hCollecting pyphen\n",
      "  Downloading pyphen-0.13.2-py3-none-any.whl (2.0 MB)\n",
      "\u001b[K     |████████████████████████████████| 2.0 MB 5.9 MB/s eta 0:00:01\n",
      "\u001b[?25hInstalling collected packages: pyphen, textstat\n",
      "Successfully installed pyphen-0.13.2 textstat-0.7.3\n"
     ]
    }
   ],
   "source": [
    "!pip install textstat"
   ]
  },
  {
   "cell_type": "code",
   "execution_count": 4,
   "id": "a8696660",
   "metadata": {},
   "outputs": [
    {
     "data": {
      "text/plain": [
       "8.4"
      ]
     },
     "execution_count": 4,
     "metadata": {},
     "output_type": "execute_result"
    }
   ],
   "source": [
    "import textstat\n",
    "text = \"Putin: Russia is ready to fulfil Indonesia's demand for fertilisers\"\n",
    "textstat.flesch_kincaid_grade(text)"
   ]
  },
  {
   "cell_type": "code",
   "execution_count": 5,
   "id": "5fffbd4c",
   "metadata": {},
   "outputs": [
    {
     "data": {
      "text/plain": [
       "8.4"
      ]
     },
     "execution_count": 5,
     "metadata": {},
     "output_type": "execute_result"
    }
   ],
   "source": [
    "textstat.flesch_kincaid_grade(text)"
   ]
  },
  {
   "cell_type": "code",
   "execution_count": 7,
   "id": "bb35790f",
   "metadata": {},
   "outputs": [
    {
     "name": "stdout",
     "output_type": "stream",
     "text": [
      "python: can't open file 'predict.py': [Errno 2] No such file or directory\r\n"
     ]
    }
   ],
   "source": [
    "python predict.py --text_path test.txt --output_dir output/ --model_path models/classifier_model/finbert-sentiment"
   ]
  },
  {
   "cell_type": "code",
   "execution_count": 8,
   "id": "8c18e5c8",
   "metadata": {},
   "outputs": [
    {
     "ename": "ModuleNotFoundError",
     "evalue": "No module named 'finbert'",
     "output_type": "error",
     "traceback": [
      "\u001b[0;31m---------------------------------------------------------------------------\u001b[0m",
      "\u001b[0;31mModuleNotFoundError\u001b[0m                       Traceback (most recent call last)",
      "\u001b[0;32m<ipython-input-8-58efb7d5dcd1>\u001b[0m in \u001b[0;36m<module>\u001b[0;34m\u001b[0m\n\u001b[0;32m----> 1\u001b[0;31m \u001b[0;32mfrom\u001b[0m \u001b[0mfinbert\u001b[0m\u001b[0;34m.\u001b[0m\u001b[0mfinbert\u001b[0m \u001b[0;32mimport\u001b[0m \u001b[0mpredict\u001b[0m\u001b[0;34m\u001b[0m\u001b[0;34m\u001b[0m\u001b[0m\n\u001b[0m\u001b[1;32m      2\u001b[0m \u001b[0;32mfrom\u001b[0m \u001b[0mtransformers\u001b[0m \u001b[0;32mimport\u001b[0m \u001b[0mAutoModelForSequenceClassification\u001b[0m\u001b[0;34m\u001b[0m\u001b[0;34m\u001b[0m\u001b[0m\n\u001b[1;32m      3\u001b[0m \u001b[0;32mimport\u001b[0m \u001b[0margparse\u001b[0m\u001b[0;34m\u001b[0m\u001b[0;34m\u001b[0m\u001b[0m\n\u001b[1;32m      4\u001b[0m \u001b[0;32mimport\u001b[0m \u001b[0mos\u001b[0m\u001b[0;34m\u001b[0m\u001b[0;34m\u001b[0m\u001b[0m\n\u001b[1;32m      5\u001b[0m \u001b[0;34m\u001b[0m\u001b[0m\n",
      "\u001b[0;31mModuleNotFoundError\u001b[0m: No module named 'finbert'"
     ]
    }
   ],
   "source": [
    "from finbert.finbert import predict\n",
    "from transformers import AutoModelForSequenceClassification\n",
    "import argparse\n",
    "import os\n",
    "\n",
    "\n",
    "parser = argparse.ArgumentParser(description='Sentiment analyzer')\n",
    "\n",
    "parser.add_argument('-a', action=\"store_true\", default=False)\n",
    "\n",
    "parser.add_argument('--text_path', type=str, help='Path to the text file.')\n",
    "parser.add_argument('--output_dir', type=str, help='Where to write the results')\n",
    "parser.add_argument('--model_path', type=str, help='Path to classifier model')\n",
    "\n",
    "args = parser.parse_args()\n",
    "\n",
    "if not os.path.exists(args.output_dir):\n",
    "    os.mkdir(args.output_dir)\n",
    "\n",
    "\n",
    "with open(args.text_path,'r') as f:\n",
    "    text = f.read()\n",
    "\n",
    "model = AutoModelForSequenceClassification.from_pretrained(args.model_path,num_labels=3,cache_dir=None)\n",
    "\n",
    "output = \"predictions.csv\"\n",
    "predict(text,model,write_to_csv=True,path=os.path.join(args.output_dir,output))"
   ]
  },
  {
   "cell_type": "code",
   "execution_count": null,
   "id": "33ae0848",
   "metadata": {},
   "outputs": [],
   "source": []
  }
 ],
 "metadata": {
  "kernelspec": {
   "display_name": "Python 3",
   "language": "python",
   "name": "python3"
  },
  "language_info": {
   "codemirror_mode": {
    "name": "ipython",
    "version": 3
   },
   "file_extension": ".py",
   "mimetype": "text/x-python",
   "name": "python",
   "nbconvert_exporter": "python",
   "pygments_lexer": "ipython3",
   "version": "3.7.3"
  }
 },
 "nbformat": 4,
 "nbformat_minor": 5
}
