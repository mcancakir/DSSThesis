{
 "cells": [
  {
   "cell_type": "code",
   "execution_count": 5,
   "id": "569dfb23",
   "metadata": {},
   "outputs": [],
   "source": [
    "import pandas as pd\n",
    "\n",
    "with open('/Users/mertcakir/models/data/sentiment_data/FinancialPhraseBank-v1.0/Sentences_50Agree.txt', 'rb') as f:\n",
    "    data = f.read().decode(errors='ignore')\n",
    "\n",
    "df = pd.DataFrame([x.split('@') for x in data.strip().split('\\r\\n')], columns=['text', 'label'])\n",
    "\n",
    "pos = df.query('label==\"positive\"')\n",
    "pos = pos.sample(len(pos), random_state=0) # shuffle samples\n",
    "\n",
    "neg = df.query('label==\"negative\"')\n",
    "neg = neg.sample(len(neg), random_state=0)\n",
    "\n",
    "neu = df.query('label==\"neutral\"')\n",
    "neu = neu.sample(len(neu), random_state=0)\n",
    "\n",
    "n_pos = int(len(pos)*0.2)\n",
    "n_neg = int(len(neg)*0.2)\n",
    "n_neu = int(len(neu)*0.2)\n",
    "\n",
    "pd.concat([pos[:-n_pos*2], neg[:-n_neg*2], neu[:-n_neu*2]], axis=0).to_csv('train.csv', sep='\\t')\n",
    "pd.concat([pos[-n_pos*2:-n_pos], neg[-n_neg*2:-n_neg], neu[-n_neu*2:-n_neu]], axis=0).to_csv('validation.csv', sep='\\t')\n",
    "pd.concat([pos[-n_pos:], neg[-n_neg:], neu[-n_neu:]], axis=0).to_csv('test.csv', sep='\\t')"
   ]
  },
  {
   "cell_type": "code",
   "execution_count": null,
   "id": "559bb85b",
   "metadata": {},
   "outputs": [],
   "source": []
  }
 ],
 "metadata": {
  "kernelspec": {
   "display_name": "Python 3",
   "language": "python",
   "name": "python3"
  },
  "language_info": {
   "codemirror_mode": {
    "name": "ipython",
    "version": 3
   },
   "file_extension": ".py",
   "mimetype": "text/x-python",
   "name": "python",
   "nbconvert_exporter": "python",
   "pygments_lexer": "ipython3",
   "version": "3.7.3"
  }
 },
 "nbformat": 4,
 "nbformat_minor": 5
}
