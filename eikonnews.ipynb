{
 "cells": [
  {
   "cell_type": "code",
   "execution_count": 1,
   "id": "3b60d84f",
   "metadata": {},
   "outputs": [
    {
     "name": "stdout",
     "output_type": "stream",
     "text": [
      "Defaulting to user installation because normal site-packages is not writeableNote: you may need to restart the kernel to use updated packages.\n",
      "Requirement already satisfied: eikon in c:\\users\\u106245\\appdata\\roaming\\python\\python38\\site-packages (1.1.16)\n",
      "Requirement already satisfied: nest-asyncio>=1.5.1 in c:\\anaconda3-2021.05\\lib\\site-packages (from eikon) (1.5.1)\n",
      "\n",
      "Requirement already satisfied: certifi in c:\\anaconda3-2021.05\\lib\\site-packages (from eikon) (2021.10.8)\n",
      "Requirement already satisfied: datetime in c:\\users\\u106245\\appdata\\roaming\\python\\python38\\site-packages (from eikon) (4.7)\n",
      "Requirement already satisfied: idna==2.* in c:\\users\\u106245\\appdata\\roaming\\python\\python38\\site-packages (from eikon) (2.10)\n",
      "Requirement already satisfied: chardet==3.* in c:\\users\\u106245\\appdata\\roaming\\python\\python38\\site-packages (from eikon) (3.0.4)\n",
      "Requirement already satisfied: python-dateutil in c:\\anaconda3-2021.05\\lib\\site-packages (from eikon) (2.8.2)\n",
      "Requirement already satisfied: requests==2.* in c:\\anaconda3-2021.05\\lib\\site-packages (from eikon) (2.27.1)\n",
      "Requirement already satisfied: appdirs>=1.4.3 in c:\\anaconda3-2021.05\\lib\\site-packages (from eikon) (1.4.4)\n",
      "Requirement already satisfied: deprecation in c:\\users\\u106245\\appdata\\roaming\\python\\python38\\site-packages (from eikon) (2.1.0)\n",
      "Requirement already satisfied: rfc3986==1.* in c:\\users\\u106245\\appdata\\roaming\\python\\python38\\site-packages (from eikon) (1.5.0)\n",
      "Requirement already satisfied: h2==3.* in c:\\users\\u106245\\appdata\\roaming\\python\\python38\\site-packages (from eikon) (3.2.0)\n",
      "Requirement already satisfied: websocket-client!=1.0.0,>=0.54.0 in c:\\users\\u106245\\appdata\\roaming\\python\\python38\\site-packages (from eikon) (1.4.1)\n",
      "Requirement already satisfied: numpy>=1.11.0 in c:\\anaconda3-2021.05\\lib\\site-packages (from eikon) (1.21.2)\n",
      "Requirement already satisfied: httpx>=0.18.0 in c:\\users\\u106245\\appdata\\roaming\\python\\python38\\site-packages (from eikon) (0.23.0)\n",
      "Requirement already satisfied: pandas>=1.0.0 in c:\\anaconda3-2021.05\\lib\\site-packages (from eikon) (1.3.5)\n",
      "Requirement already satisfied: hpack<4,>=3.0 in c:\\users\\u106245\\appdata\\roaming\\python\\python38\\site-packages (from h2==3.*->eikon) (3.0.0)\n",
      "Requirement already satisfied: hyperframe<6,>=5.2.0 in c:\\users\\u106245\\appdata\\roaming\\python\\python38\\site-packages (from h2==3.*->eikon) (5.2.0)\n",
      "Requirement already satisfied: charset-normalizer~=2.0.0 in c:\\anaconda3-2021.05\\lib\\site-packages (from requests==2.*->eikon) (2.0.4)\n",
      "Requirement already satisfied: urllib3<1.27,>=1.21.1 in c:\\anaconda3-2021.05\\lib\\site-packages (from requests==2.*->eikon) (1.26.7)\n",
      "Requirement already satisfied: sniffio in c:\\anaconda3-2021.05\\lib\\site-packages (from httpx>=0.18.0->eikon) (1.2.0)\n",
      "Requirement already satisfied: httpcore<0.16.0,>=0.15.0 in c:\\users\\u106245\\appdata\\roaming\\python\\python38\\site-packages (from httpx>=0.18.0->eikon) (0.15.0)\n",
      "Requirement already satisfied: h11<0.13,>=0.11 in c:\\users\\u106245\\appdata\\roaming\\python\\python38\\site-packages (from httpcore<0.16.0,>=0.15.0->httpx>=0.18.0->eikon) (0.12.0)\n",
      "Requirement already satisfied: anyio==3.* in c:\\users\\u106245\\appdata\\roaming\\python\\python38\\site-packages (from httpcore<0.16.0,>=0.15.0->httpx>=0.18.0->eikon) (3.6.1)\n",
      "Requirement already satisfied: pytz>=2017.3 in c:\\anaconda3-2021.05\\lib\\site-packages (from pandas>=1.0.0->eikon) (2021.3)\n",
      "Requirement already satisfied: six>=1.5 in c:\\anaconda3-2021.05\\lib\\site-packages (from python-dateutil->eikon) (1.16.0)\n",
      "Requirement already satisfied: zope.interface in c:\\anaconda3-2021.05\\lib\\site-packages (from datetime->eikon) (5.4.0)\n",
      "Requirement already satisfied: packaging in c:\\anaconda3-2021.05\\lib\\site-packages (from deprecation->eikon) (21.3)\n",
      "Requirement already satisfied: pyparsing!=3.0.5,>=2.0.2 in c:\\anaconda3-2021.05\\lib\\site-packages (from packaging->deprecation->eikon) (3.0.4)\n",
      "Requirement already satisfied: setuptools in c:\\anaconda3-2021.05\\lib\\site-packages (from zope.interface->datetime->eikon) (58.0.4)\n"
     ]
    }
   ],
   "source": [
    "pip install eikon"
   ]
  },
  {
   "cell_type": "code",
   "execution_count": 2,
   "id": "8f270329",
   "metadata": {},
   "outputs": [],
   "source": [
    "import eikon as ek\n",
    "\n",
    "ek.set_app_key('8707f26e9e7f498c9518b5bf8423965952ed1dc2')\n",
    "\n"
   ]
  },
  {
   "cell_type": "code",
   "execution_count": 303,
   "id": "1d4f4474",
   "metadata": {},
   "outputs": [
    {
     "data": {
      "text/html": [
       "<div>\n",
       "<style scoped>\n",
       "    .dataframe tbody tr th:only-of-type {\n",
       "        vertical-align: middle;\n",
       "    }\n",
       "\n",
       "    .dataframe tbody tr th {\n",
       "        vertical-align: top;\n",
       "    }\n",
       "\n",
       "    .dataframe thead th {\n",
       "        text-align: right;\n",
       "    }\n",
       "</style>\n",
       "<table border=\"1\" class=\"dataframe\">\n",
       "  <thead>\n",
       "    <tr style=\"text-align: right;\">\n",
       "      <th></th>\n",
       "      <th>versionCreated</th>\n",
       "      <th>text</th>\n",
       "      <th>storyId</th>\n",
       "      <th>sourceCode</th>\n",
       "    </tr>\n",
       "  </thead>\n",
       "  <tbody>\n",
       "    <tr>\n",
       "      <th>2021-06-24 10:39:32</th>\n",
       "      <td>2021-06-24 10:39:32+00:00</td>\n",
       "      <td>BUZZ-USD/ZAR at a cross roads on the daily chart</td>\n",
       "      <td>urn:newsml:reuters.com:20210624:nL2N2O60R0:1</td>\n",
       "      <td>NS:RTRS</td>\n",
       "    </tr>\n",
       "  </tbody>\n",
       "</table>\n",
       "</div>"
      ],
      "text/plain": [
       "                               versionCreated  \\\n",
       "2021-06-24 10:39:32 2021-06-24 10:39:32+00:00   \n",
       "\n",
       "                                                                 text  \\\n",
       "2021-06-24 10:39:32  BUZZ-USD/ZAR at a cross roads on the daily chart   \n",
       "\n",
       "                                                          storyId sourceCode  \n",
       "2021-06-24 10:39:32  urn:newsml:reuters.com:20210624:nL2N2O60R0:1    NS:RTRS  "
      ]
     },
     "execution_count": 303,
     "metadata": {},
     "output_type": "execute_result"
    }
   ],
   "source": [
    "df = ek.get_news_headlines('Topic:ZA AND Language:LEN AND ( Topic:FRX OR Topic:NEWS1 ) NOT ( Topic:SPO OR Topic:VEN OR Source:BRIEFC OR Source:RSCH ) NOT AA', date_to = \"2021-07-07\", count=100)\n",
    "df.tail(1)"
   ]
  },
  {
   "cell_type": "code",
   "execution_count": 304,
   "id": "30a88b0a",
   "metadata": {},
   "outputs": [],
   "source": [
    "df.to_csv('sout32.csv', encoding='utf-8', index=False)"
   ]
  },
  {
   "cell_type": "code",
   "execution_count": null,
   "id": "970bf286",
   "metadata": {},
   "outputs": [],
   "source": []
  }
 ],
 "metadata": {
  "kernelspec": {
   "display_name": "Python 3 (ipykernel)",
   "language": "python",
   "name": "python3"
  },
  "language_info": {
   "codemirror_mode": {
    "name": "ipython",
    "version": 3
   },
   "file_extension": ".py",
   "mimetype": "text/x-python",
   "name": "python",
   "nbconvert_exporter": "python",
   "pygments_lexer": "ipython3",
   "version": "3.10.7"
  }
 },
 "nbformat": 4,
 "nbformat_minor": 5
}
